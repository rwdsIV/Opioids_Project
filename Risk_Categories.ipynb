{
  "nbformat": 4,
  "nbformat_minor": 0,
  "metadata": {
    "colab": {
      "provenance": []
    },
    "kernelspec": {
      "name": "python3",
      "display_name": "Python 3"
    },
    "language_info": {
      "name": "python"
    }
  },
  "cells": [
    {
      "cell_type": "code",
      "execution_count": null,
      "metadata": {
        "id": "yJ6ZjJgkEWzk"
      },
      "outputs": [],
      "source": [
        "risk_assessment = [cleaned_dataset['Percentage Deaths'] < .003,\n",
        "              (cleaned_dataset['Percentage Deaths'] > .003) & (cleaned_dataset['Percentage Deaths'] < .01),\n",
        "              (cleaned_dataset['Percentage Deaths'] > .01)]\n",
        "\n",
        "options = ['Low Risk', 'Medium Risk', 'High Risk']\n",
        "\n",
        "cleaned_dataset['Risk'] = np.select(risk_assessment, options, default = 'Unknown').astype(str)\n",
        "print(cleaned_dataset)"
      ]
    },
    {
      "cell_type": "code",
      "source": [
        "num_states = len(cleaned_dataset['State'].unique())\n",
        "plt.figure(figsize = (num_states, 10))\n",
        "sns.countplot(x = 'State', hue = 'Risk', data = cleaned_dataset)\n",
        "plt.gcf().set_size_inches(num_states, 10)"
      ],
      "metadata": {
        "id": "VMGTL_BTEbC4"
      },
      "execution_count": null,
      "outputs": []
    },
    {
      "cell_type": "code",
      "source": [
        "cleaned_dataset['Risk'] = cleaned_dataset['Risk'].map({'Low Risk': 0, 'Medium Risk': 1, 'High Risk': 2})\n",
        "cleaned_dataset"
      ],
      "metadata": {
        "id": "tLBRzf9AEdtx"
      },
      "execution_count": null,
      "outputs": []
    }
  ]
}