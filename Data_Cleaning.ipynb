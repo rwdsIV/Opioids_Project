{
  "nbformat": 4,
  "nbformat_minor": 0,
  "metadata": {
    "colab": {
      "provenance": []
    },
    "kernelspec": {
      "name": "python3",
      "display_name": "Python 3"
    },
    "language_info": {
      "name": "python"
    }
  },
  "cells": [
    {
      "cell_type": "code",
      "execution_count": null,
      "metadata": {
        "id": "usWFeFoyCn9u"
      },
      "outputs": [],
      "source": [
        "import pandas as pd\n",
        "raw_dataset = pd.read_csv('Multiple Cause of Death 1999-2014 v1.1.csv')"
      ]
    },
    {
      "cell_type": "code",
      "source": [
        "raw_dataset.columns\n",
        "columns_to_drop = ['Crude Rate','Crude Rate Lower 95% Confidence Interval','Crude Rate Upper 95% Confidence Interval']\n",
        "cleaned_dataset = raw_dataset.drop(columns=columns_to_drop)"
      ],
      "metadata": {
        "id": "OY0R8s2WCpGy"
      },
      "execution_count": null,
      "outputs": []
    },
    {
      "cell_type": "code",
      "source": [
        "import numpy as np\n",
        "cleaned_dataset = raw_dataset.replace(['Suppressed', 'Unreliable'], np.nan)\n",
        "cleaned_dataset = cleaned_dataset.dropna()\n",
        "print(cleaned_dataset.isin(['Suppressed', 'Unreliable']).any().any())"
      ],
      "metadata": {
        "id": "OrF2BKN_CsJ-"
      },
      "execution_count": null,
      "outputs": []
    }
  ]
}