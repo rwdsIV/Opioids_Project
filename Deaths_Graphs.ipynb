{
  "nbformat": 4,
  "nbformat_minor": 0,
  "metadata": {
    "colab": {
      "provenance": []
    },
    "kernelspec": {
      "name": "python3",
      "display_name": "Python 3"
    },
    "language_info": {
      "name": "python"
    }
  },
  "cells": [
    {
      "cell_type": "code",
      "execution_count": null,
      "metadata": {
        "id": "YoTIRYidC-SL"
      },
      "outputs": [],
      "source": [
        "cleaned_dataset['Deaths'] = pd.to_numeric(cleaned_dataset['Deaths'], errors='coerce')\n",
        "total_deaths_by_state = cleaned_dataset.groupby('State')['Deaths'].sum().sort_values(ascending=True)\n",
        "import matplotlib.pyplot as plt\n",
        "from matplotlib.ticker import MultipleLocator\n",
        "\n",
        "plt.figure(figsize=(12, 10))\n",
        "bars = plt.barh(total_deaths_by_state.index, total_deaths_by_state.values, edgecolor='black', linewidth=0.7)\n",
        "\n",
        "plt.grid(axis='x', linestyle='--', alpha=0.7)\n",
        "\n",
        "plt.title('Total Deaths by State (1999–2014)', fontsize=16, fontweight='bold')\n",
        "plt.xlabel('Total Deaths Over 15 Years', fontsize=12)\n",
        "plt.ylabel('State', fontsize=12)\n",
        "plt.xticks(rotation=40)\n",
        "plt.gca().xaxis.set_major_locator(MultipleLocator(1000))\n",
        "\n",
        "for bar in bars:\n",
        "    width = bar.get_width()\n",
        "    plt.text(width + 100, bar.get_y() + bar.get_height()/2, f'{int(width):,}', va='center', fontsize=9)\n",
        "\n",
        "plt.tight_layout()\n",
        "plt.show()"
      ]
    },
    {
      "cell_type": "code",
      "source": [
        "cleaned_dataset['Deaths'] = pd.to_numeric(cleaned_dataset['Deaths'], errors='coerce')\n",
        "cleaned_dataset['Population'] = pd.to_numeric(cleaned_dataset['Population'], errors='coerce')\n",
        "grouped = cleaned_dataset.groupby('State')[['Deaths', 'Population']].sum()\n",
        "grouped['Deaths per 100k'] = (grouped['Deaths'] / grouped['Population']) * 100000\n",
        "\n",
        "normalized_deaths = grouped['Deaths per 100k'].sort_values(ascending=True)\n",
        "import matplotlib.pyplot as plt\n",
        "from matplotlib.ticker import MultipleLocator\n",
        "\n",
        "plt.figure(figsize=(12, 10))\n",
        "bars = plt.barh(normalized_deaths.index, normalized_deaths.values, edgecolor='black', linewidth=0.7, color='teal')\n",
        "\n",
        "plt.grid(axis='x', linestyle='--', alpha=0.7)\n",
        "plt.title('Normalized Total Deaths per 100,000 People by State (1999–2014)', fontsize=16, fontweight='bold')\n",
        "plt.xlabel('Deaths per 100,000 People', fontsize=12)\n",
        "plt.ylabel('State', fontsize=12)\n",
        "\n",
        "plt.gca().xaxis.set_major_locator(MultipleLocator(1))\n",
        "\n",
        "for bar in bars:\n",
        "    width = bar.get_width()\n",
        "    plt.text(width + 0.1, bar.get_y() + bar.get_height()/2, f'{width:.1f}', va='center', fontsize=9)\n",
        "\n",
        "plt.tight_layout()\n",
        "plt.show()\n"
      ],
      "metadata": {
        "id": "Ipc-2yIHC_SI"
      },
      "execution_count": null,
      "outputs": []
    },
    {
      "cell_type": "code",
      "source": [
        "cleaned_dataset['Deaths'] = cleaned_dataset['Deaths'].astype(np.int64)\n",
        "import matplotlib.pyplot as plt\n",
        "import seaborn as sns\n",
        "avg_deaths = cleaned_dataset.groupby('State')['Deaths'].mean().sort_values(ascending=False)\n",
        "plt.figure(figsize=(14, 6))\n",
        "bars = plt.bar(avg_deaths.index, avg_deaths.values)\n",
        "plt.title('Average Annual Deaths by State (1999–2014)', fontsize=16, fontweight='bold')\n",
        "plt.ylabel('Average Deaths per Year', fontsize=12)\n",
        "plt.xlabel('State', fontsize=12)\n",
        "plt.xticks(rotation=60, ha='right')\n",
        "for bar in bars:\n",
        "    height = bar.get_height()\n",
        "    plt.text(bar.get_x() + bar.get_width()/2, height + 10, f'{int(height):,}', ha='center', fontsize=7)\n",
        "\n",
        "plt.tight_layout()\n",
        "plt.show()"
      ],
      "metadata": {
        "id": "jW9Sbt6zDlru"
      },
      "execution_count": null,
      "outputs": []
    }
  ]
}