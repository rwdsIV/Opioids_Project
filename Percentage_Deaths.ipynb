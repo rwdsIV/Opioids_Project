{
  "nbformat": 4,
  "nbformat_minor": 0,
  "metadata": {
    "colab": {
      "provenance": []
    },
    "kernelspec": {
      "name": "python3",
      "display_name": "Python 3"
    },
    "language_info": {
      "name": "python"
    }
  },
  "cells": [
    {
      "cell_type": "code",
      "source": [
        "state_average = cleaned_dataset.groupby(\"State\")['Deaths'].mean().sort_values(ascending = False)\n",
        "state_average.head()\n",
        "\n",
        "top_states = state_average.head(10).index\n",
        "\n",
        "filter_top_states = cleaned_dataset[cleaned_dataset['State'].isin(top_states)]\n",
        "\n",
        "for state in top_states:\n",
        "  state_data = filter_top_states[filter_top_states['State'] == state]\n",
        "  sns.lineplot(data = state_data, x = \"Year\", y = \"Deaths\", label = state)\n",
        "\n",
        "plt.legend()\n",
        "plt.title(\"Highest Number of Deaths Over Time (Top 10 States)\")\n",
        "plt.xlabel(\"Year\")\n",
        "plt.ylabel(\"Number of Deaths\")\n",
        "plt.show()"
      ],
      "metadata": {
        "id": "6Xd6en4zEQMp"
      },
      "execution_count": null,
      "outputs": []
    },
    {
      "cell_type": "code",
      "execution_count": null,
      "metadata": {
        "id": "tEoDkDG-D1AK"
      },
      "outputs": [],
      "source": [
        "cleaned_dataset['Percentage Deaths'] = (cleaned_dataset['Deaths'] / cleaned_dataset['Population']) * 100\n",
        "avg_per = cleaned_dataset.groupby(['State', 'Year'])['Percentage Deaths'].mean()\n",
        "avg_per"
      ]
    },
    {
      "cell_type": "code",
      "source": [
        "state_average = cleaned_dataset.groupby(\"State\")['Percentage Deaths'].mean().sort_values(ascending = False)\n",
        "state_average.head()\n",
        "\n",
        "top_states = state_average.head(10).index\n",
        "\n",
        "filter_top_states = cleaned_dataset[cleaned_dataset['State'].isin(top_states)]\n",
        "\n",
        "for state in top_states:\n",
        "  state_data = filter_top_states[filter_top_states['State'] == state]\n",
        "  sns.lineplot(data = state_data, x = \"Year\", y = \"Percentage Deaths\", label = state)\n",
        "\n",
        "plt.legend()\n",
        "plt.title(\"Highest Death Percentage Over Time (Top 10 States)\")\n",
        "plt.xlabel(\"Year\")\n",
        "plt.ylabel(\"Percentage Deaths\")\n",
        "plt.show()"
      ],
      "metadata": {
        "id": "UPEc1v4lEKqC"
      },
      "execution_count": null,
      "outputs": []
    }
  ]
}