{
  "nbformat": 4,
  "nbformat_minor": 0,
  "metadata": {
    "colab": {
      "provenance": []
    },
    "kernelspec": {
      "name": "python3",
      "display_name": "Python 3"
    },
    "language_info": {
      "name": "python"
    }
  },
  "cells": [
    {
      "cell_type": "code",
      "execution_count": null,
      "metadata": {
        "id": "ycAGUcxkEmiB"
      },
      "outputs": [],
      "source": [
        "from sklearn.model_selection import train_test_split\n",
        "from sklearn.linear_model import LogisticRegression\n",
        "from sklearn.preprocessing import StandardScaler\n",
        "\n",
        "ind_features = cleaned_dataset[['Year', 'Deaths', 'Population', 'Prescriptions Dispensed by US Retailers in that year (millions)']]\n",
        "dep_features = cleaned_dataset[['Risk']]\n",
        "\n",
        "ind_df = ind_features.to_numpy()\n",
        "dep_df = dep_features.to_numpy()\n",
        "\n",
        "lr_classifier = LogisticRegression(solver='lbfgs',max_iter=10000, class_weight = 'balanced')\n",
        "\n",
        "X_train, X_test, y_train, y_test = train_test_split(ind_df, dep_df, test_size = .2, random_state = 42)\n",
        "\n",
        "scaler = StandardScaler()\n",
        "X_train = scaler.fit_transform(X_train)\n",
        "X_test = scaler.transform(X_test)\n",
        "\n",
        "X_train.shape, y_train.shape\n",
        "\n",
        "# train our models\n",
        "lr_classifier.fit(X_train, y_train.ravel())"
      ]
    },
    {
      "cell_type": "code",
      "source": [
        "from sklearn.metrics import classification_report, accuracy_score\n",
        "\n",
        "y_predicted = lr_classifier.predict(X_test)\n",
        "lr_classification = classification_report(y_test, y_predicted)\n",
        "lr_accuracy = accuracy_score(y_predicted, y_test)\n",
        "print(f\"The accuracy of the Logistic Classifier = {lr_accuracy}\")\n",
        "\n",
        "print(f\"{lr_classification}\")"
      ],
      "metadata": {
        "id": "5dxyHfehEqLv"
      },
      "execution_count": null,
      "outputs": []
    },
    {
      "cell_type": "code",
      "source": [
        "from sklearn.metrics import confusion_matrix\n",
        "\n",
        "cnf_mtrx = confusion_matrix(y_test, y_predicted)\n",
        "\n",
        "sns.heatmap(cnf_mtrx, annot = True, cmap = 'jet')\n",
        "plt.xlabel(\"Predicted Labels\")\n",
        "plt.ylabel(\"True Labels\")\n",
        "plt.title(\"Confusion Matrix\")\n",
        "plt.show()"
      ],
      "metadata": {
        "id": "vDPS0pSgEsk_"
      },
      "execution_count": null,
      "outputs": []
    }
  ]
}